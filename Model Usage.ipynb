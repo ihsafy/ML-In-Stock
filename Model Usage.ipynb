{
 "cells": [
  {
   "cell_type": "code",
   "execution_count": 1,
   "id": "a0d8c394-ec19-4463-93ec-484aea57c9fe",
   "metadata": {},
   "outputs": [
    {
     "name": "stderr",
     "output_type": "stream",
     "text": [
      "C:\\Users\\ASUS\\anaconda3\\Lib\\site-packages\\sklearn\\base.py:376: InconsistentVersionWarning: Trying to unpickle estimator DecisionTreeRegressor from version 1.6.0 when using version 1.5.1. This might lead to breaking code or invalid results. Use at your own risk. For more info please refer to:\n",
      "https://scikit-learn.org/stable/model_persistence.html#security-maintainability-limitations\n",
      "  warnings.warn(\n",
      "C:\\Users\\ASUS\\anaconda3\\Lib\\site-packages\\sklearn\\base.py:376: InconsistentVersionWarning: Trying to unpickle estimator RandomForestRegressor from version 1.6.0 when using version 1.5.1. This might lead to breaking code or invalid results. Use at your own risk. For more info please refer to:\n",
      "https://scikit-learn.org/stable/model_persistence.html#security-maintainability-limitations\n",
      "  warnings.warn(\n"
     ]
    },
    {
     "data": {
      "text/plain": [
       "array([30.65685683])"
      ]
     },
     "execution_count": 1,
     "metadata": {},
     "output_type": "execute_result"
    }
   ],
   "source": [
    "from joblib import dump, load\n",
    "import numpy as np\n",
    "model = load('Dragon.joblib') \n",
    "features = np.array([[-9.43942006, 4.12628155, 1.6165014, -0.67288841, -1.42262747,\n",
    "       -10.44443979304, -49.31238772,  9.61111401, -26.0016879 , -7.5778192 ,\n",
    "       -0.97491834,  9.41164221, -66.86091034]])\n",
    "model.predict(features)\n"
   ]
  },
  {
   "cell_type": "code",
   "execution_count": 48,
   "id": "05c38f4b-48a0-453b-9cd2-5b09ab1bf109",
   "metadata": {},
   "outputs": [
    {
     "name": "stderr",
     "output_type": "stream",
     "text": [
      "C:\\Users\\ASUS\\anaconda3\\Lib\\site-packages\\sklearn\\base.py:376: InconsistentVersionWarning: Trying to unpickle estimator DecisionTreeRegressor from version 1.6.0 when using version 1.5.1. This might lead to breaking code or invalid results. Use at your own risk. For more info please refer to:\n",
      "https://scikit-learn.org/stable/model_persistence.html#security-maintainability-limitations\n",
      "  warnings.warn(\n",
      "C:\\Users\\ASUS\\anaconda3\\Lib\\site-packages\\sklearn\\base.py:376: InconsistentVersionWarning: Trying to unpickle estimator RandomForestRegressor from version 1.6.0 when using version 1.5.1. This might lead to breaking code or invalid results. Use at your own risk. For more info please refer to:\n",
      "https://scikit-learn.org/stable/model_persistence.html#security-maintainability-limitations\n",
      "  warnings.warn(\n"
     ]
    },
    {
     "name": "stdout",
     "output_type": "stream",
     "text": [
      "Predicted Value: 30.656856834600006\n",
      "Actual Value: 30.0\n",
      "Error Percentage: 2.19%\n",
      "Accuracy: 97.81%\n"
     ]
    },
    {
     "data": {
      "image/png": "[encoded data removed]",
      "text/plain": [
       "<Figure size 640x480 with 1 Axes>"
      ]
     },
     "metadata": {},
     "output_type": "display_data"
    }
   ],
   "source": [
    "from joblib import load\n",
    "import numpy as np\n",
    "import matplotlib.pyplot as plt\n",
    "\n",
    "# Load the model\n",
    "model = load('Dragon.joblib')\n",
    "\n",
    "# Example features for prediction\n",
    "features = np.array([[-9.43942006, 4.12628155, 1.6165014, -0.67288841, -1.42262747,\n",
    "                      -10.44443979304, -49.31238772, 9.61111401, -26.0016879, -7.5778192,\n",
    "                      -0.97491834, 9.41164221, -66.86091034]])\n",
    "\n",
    "# Actual target value (replace this with the true target value)\n",
    "actual_target_value = 30.0  # Example\n",
    "\n",
    "# Make a prediction\n",
    "predicted_value = model.predict(features)[0]\n",
    "\n",
    "# Calculate Error Percentage\n",
    "error_percentage = abs(predicted_value - actual_target_value) / actual_target_value * 100\n",
    "\n",
    "# Calculate Accuracy\n",
    "accuracy = 100 - error_percentage\n",
    "\n",
    "# Display the results\n",
    "print(f\"Predicted Value: {predicted_value}\")\n",
    "print(f\"Actual Value: {actual_target_value}\")\n",
    "print(f\"Error Percentage: {error_percentage:.2f}%\")\n",
    "print(f\"Accuracy: {accuracy:.2f}%\")\n",
    "\n",
    "# Plot the results\n",
    "metrics = ['Error Percentage', 'Accuracy']\n",
    "values = [error_percentage, accuracy]\n",
    "colors = ['red', 'green']\n",
    "\n",
    "fig, ax = plt.subplots()\n",
    "ax.bar(metrics, values, color=colors)\n",
    "ax.set_ylabel('Percentage')\n",
    "ax.set_title('Prediction Performance')\n",
    "\n",
    "# Show the plot\n",
    "plt.show()\n"
   ]
  },
  {
   "cell_type": "code",
   "execution_count": null,
   "id": "2b16cea6-69e4-4c3b-908f-68477a906859",
   "metadata": {},
   "outputs": [],
   "source": []
  }
 ],
 "metadata": {
  "kernelspec": {
   "display_name": "Python [conda env:anaconda3] *",
   "language": "python",
   "name": "conda-env-anaconda3-py"
  },
  "language_info": {
   "codemirror_mode": {
    "name": "ipython",
    "version": 3
   },
   "file_extension": ".py",
   "mimetype": "text/x-python",
   "name": "python",
   "nbconvert_exporter": "python",
   "pygments_lexer": "ipython3",
   "version": "3.12.7"
  }
 },
 "nbformat": 4,
 "nbformat_minor": 5
}
